{
 "cells": [
  {
   "cell_type": "markdown",
   "metadata": {
    "slideshow": {
     "slide_type": "slide"
    }
   },
   "source": [
    "### MY470 Computer Programming\n",
    "# Programming in Teams\n",
    "### Week 5 Lab, MT 2017"
   ]
  },
  {
   "cell_type": "markdown",
   "metadata": {
    "slideshow": {
     "slide_type": "slide"
    }
   },
   "source": [
    "## Suggested Workflow for Prorgamming in Teams\n",
    "\n",
    "1. Use `pass` to outline structure of program\n",
    "* Write class/function specifications\n",
    "* Split the work\n",
    "* Fill in the details\n",
    "* Review each other's code to identify and fix potential problems\n",
    "* Merge\n",
    "* Identify bugs and problems\n",
    "* Repeat 3-7 as necessary"
   ]
  },
  {
   "cell_type": "code",
   "execution_count": 3,
   "metadata": {
    "collapsed": true,
    "slideshow": {
     "slide_type": "-"
    }
   },
   "outputs": [],
   "source": [
    "class MyClass(object):\n",
    "    \n",
    "    def __init__(self):\n",
    "        '''Create a new instance.'''\n",
    "        pass\n",
    "    \n",
    "    def class_methods(self, arg):\n",
    "        pass\n",
    "\n"
   ]
  },
  {
   "cell_type": "markdown",
   "metadata": {
    "slideshow": {
     "slide_type": "slide"
    }
   },
   "source": [
    "## GitHub as a Collaboration Tool\n",
    "\n",
    "1. Clone repository locally\n",
    "* Make changes in cloned repository\n",
    "* Upload new file, **creating a new branch and starting a pull request**\n",
    "*"
   ]
  },
  {
   "cell_type": "markdown",
   "metadata": {
    "slideshow": {
     "slide_type": "slide"
    }
   },
   "source": [
    "## Create a New Branch When Uploading Changed File\n",
    "\n",
    "![Create a new branch](figs/branching.png \"Create a new branch\")"
   ]
  },
  {
   "cell_type": "markdown",
   "metadata": {
    "slideshow": {
     "slide_type": "slide"
    }
   },
   "source": [
    "## Open a Pull Request to Get Feedback (Automatically Directed There)\n",
    "\n",
    "![Open a pull request](figs/pull_request.png \"Open a pull request\")"
   ]
  },
  {
   "cell_type": "markdown",
   "metadata": {
    "slideshow": {
     "slide_type": "slide"
    }
   },
   "source": [
    "## You (and Later Your Partner) Can View Your Changes Highlighted\n",
    "\n",
    "![View changes](figs/changes.png \"View changes\")"
   ]
  },
  {
   "cell_type": "markdown",
   "metadata": {
    "slideshow": {
     "slide_type": "slide"
    }
   },
   "source": [
    "## Wait for Comments from Partner Before Merging\n",
    "\n",
    "![Merge after comments](figs/merge.png \"Merge after comments\")"
   ]
  },
  {
   "cell_type": "markdown",
   "metadata": {
    "slideshow": {
     "slide_type": "slide"
    }
   },
   "source": [
    "## Confirm Merge\n",
    "\n",
    "![Confirm merge](figs/confirm_merge.png \"Confirm merge\")"
   ]
  },
  {
   "cell_type": "markdown",
   "metadata": {
    "slideshow": {
     "slide_type": "slide"
    }
   },
   "source": [
    "## Open Issues to Discuss Problems and Ask Partner for Help\n",
    "\n",
    "![Open a new issue](figs/open_issue.png \"Open a new issue\")"
   ]
  },
  {
   "cell_type": "markdown",
   "metadata": {
    "slideshow": {
     "slide_type": "slide"
    }
   },
   "source": [
    "## Open Issues to Discuss Problems and Ask Partner for Help\n",
    "\n",
    "![Submit new issue](figs/submit_issue.png \"Submit new issue\")"
   ]
  },
  {
   "cell_type": "markdown",
   "metadata": {
    "slideshow": {
     "slide_type": "slide"
    }
   },
   "source": [
    "## Discuss\n",
    "\n",
    "![Discuss](figs/discuss.png \"Discuss\")"
   ]
  },
  {
   "cell_type": "code",
   "execution_count": null,
   "metadata": {
    "collapsed": true,
    "slideshow": {
     "slide_type": "slide"
    }
   },
   "outputs": [],
   "source": [
    "# Exercise 1: Work with the person next to you to design classes to manage\n",
    "# the products, customers, and purchase orders for an online book store\n",
    "# such as amazon.com. Outline the data attributes and useful methods \n",
    "# for each class. You can discuss and create the outline together. \n",
    "\n"
   ]
  },
  {
   "cell_type": "code",
   "execution_count": null,
   "metadata": {
    "collapsed": true,
    "slideshow": {
     "slide_type": "-"
    }
   },
   "outputs": [],
   "source": [
    "# Exercise 2: Create a new repository in your account and upload the class hierarchy \n",
    "# you created. Practice cloning locally, making changes, and uploading the changed file\n",
    "# to your remote repository by creating a branch and opening a pull request. \n",
    "# (Note that in order for others to be able to upload files to your repository, \n",
    "# you need to grant them push access.)\n",
    "\n"
   ]
  },
  {
   "cell_type": "code",
   "execution_count": null,
   "metadata": {
    "collapsed": true,
    "slideshow": {
     "slide_type": "-"
    }
   },
   "outputs": [],
   "source": [
    "# Exercise 3: Open a new issue in your partner's repository. \n",
    "# (Note that you don't need push access to open issues.)\n",
    "\n"
   ]
  },
  {
   "cell_type": "markdown",
   "metadata": {},
   "source": [
    "## Using Git with commands\n",
    "\n",
    "### Change you defualt text editor for Git\n",
    "\n",
    "You can use your favourite editor by customizing Git setting, but I recomend you to use [Nano](https://www.nano-editor.org/) as a minimal editor on all platforms. It is much easier to use **Nano** than **Vim**: `Ctrl+o` to save and `Ctrl+x` to close.\n",
    "\n",
    "#### MacOS\n",
    "```\n",
    "brew install nano\n",
    "```\n",
    "#### Linux\n",
    "```\n",
    "sudo apt-get install nano\n",
    "```\n",
    "#### Windows\n",
    "Dodnlowad and install [**Nano-win**](https://github.com/mcandre/nano-win).\n",
    "\n",
    "Then set Nano as the default editor for you commit message\n",
    "```\n",
    "git config --global core.editor \"nano\"\n",
    "```\n",
    "\n",
    "### Important Git commands \n",
    "\n",
    "#### Copy your online repository\n",
    "```\n",
    "git pull https://github.com/lse-my470/lectures.git\n",
    "```\n",
    "#### Create a new branch \n",
    "```\n",
    "git checkout -b your_branch_name\n",
    "```\n",
    "#### Stage all the changes\n",
    "```\n",
    "git add --all\n",
    "```\n",
    "#### Commit staged changes\n",
    "```\n",
    "git commit\n",
    "# or \n",
    "git commit -m \"your commit message here\"\n",
    "```\n",
    "#### Upload your files to the repository\n",
    "```\n",
    "git push\n",
    "```\n",
    "#### See the cahge history of local respository\n",
    "```\n",
    "git log\n",
    "```\n",
    "#### See the status of your local respository\n",
    "```\n",
    "git status\n",
    "```"
   ]
  },
  {
   "cell_type": "markdown",
   "metadata": {},
   "source": []
  }
 ],
 "metadata": {
  "celltoolbar": "Slideshow",
  "kernelspec": {
   "display_name": "Python 3",
   "language": "python",
   "name": "python3"
  },
  "language_info": {
   "codemirror_mode": {
    "name": "ipython",
    "version": 3
   },
   "file_extension": ".py",
   "mimetype": "text/x-python",
   "name": "python",
   "nbconvert_exporter": "python",
   "pygments_lexer": "ipython3",
   "version": "3.6.1"
  }
 },
 "nbformat": 4,
 "nbformat_minor": 2
}
