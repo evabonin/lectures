{
 "cells": [
  {
   "cell_type": "markdown",
   "metadata": {
    "slideshow": {
     "slide_type": "slide"
    }
   },
   "source": [
    "### MY470 Computer Programming\n",
    "# Anaconda, Jupyter, and GitHub\n",
    "### Week 1 Lab, MT 2017"
   ]
  },
  {
   "cell_type": "markdown",
   "metadata": {
    "slideshow": {
     "slide_type": "slide"
    }
   },
   "source": [
    "## IDEs\n",
    "\n",
    "* Integrated development environment\n",
    "* A software application that facilitates computer programming and software development\n",
    "  * Text editor with syntax highlighting, auto completion and smart identation\n",
    "  * Shell with syntax highlighting\n",
    "  * Popular libraries\n",
    "  * (Debugger)"
   ]
  },
  {
   "cell_type": "markdown",
   "metadata": {
    "slideshow": {
     "slide_type": "slide"
    }
   },
   "source": [
    "## Anaconda\n",
    "\n",
    "* Freemium open-source cross-platform distribution of the Pyhton and R programming languages\n",
    "  * *conda* – package management system\n",
    "  * *git*, *pandas*, *scikit-learn*, *nltk*, etc. – packages for data science \n",
    "  * Anaconda Navigator – graphical user interface\n",
    "  * Jupyter Notebook – web app for creating and sharing code"
   ]
  },
  {
   "cell_type": "markdown",
   "metadata": {
    "slideshow": {
     "slide_type": "slide"
    }
   },
   "source": [
    "## Installing Anaconda\n",
    "\n",
    "* Go to https://www.continuum.io/downloads\n",
    "* Select your OS\n",
    "* **Download Python 3.6 version**\n",
    "* Follow instructions"
   ]
  },
  {
   "cell_type": "markdown",
   "metadata": {
    "slideshow": {
     "slide_type": "slide"
    }
   },
   "source": [
    "## Jupyter\n",
    "\n",
    "* Open-source web application for creating and sharing documents with:\n",
    "  * Live code\n",
    "  * Equations\n",
    "  * Visualizations\n",
    "  * Explanatory text\n",
    "* Supports more than 40 programming languages, including Python and R\n",
    "* Notebook files have *.ipynb* extension and can be easily shared, e.g. on GitHub"
   ]
  },
  {
   "cell_type": "markdown",
   "metadata": {
    "slideshow": {
     "slide_type": "slide"
    }
   },
   "source": [
    "## Launching Jupyter\n",
    "\n",
    "* Launch Anaconda Navigator and click on Jupyter Notebook icon\n",
    "\n",
    "or \n",
    "\n",
    "* Open Terminal/cmd and type: \n",
    "\n",
    "```\n",
    "> jupyter notebook\n",
    "```"
   ]
  },
  {
   "cell_type": "markdown",
   "metadata": {
    "slideshow": {
     "slide_type": "slide"
    }
   },
   "source": [
    "## Using Jupyter\n",
    "\n",
    "* New &rarr; Notebook: Python 3\n",
    "* Insert &rarr; Insert Cell Below\n",
    "* Cell &rarr; Cell Type &rarr;\n",
    "  * Markdown\n",
    "    * MY 473/573 Managing and Visualizing Data\n",
    "    * Cheatsheets, for example: https://github.com/adam-p/markdown-here/wiki/Markdown-Cheatsheet\n",
    "  * Code"
   ]
  },
  {
   "cell_type": "markdown",
   "metadata": {
    "slideshow": {
     "slide_type": "slide"
    }
   },
   "source": [
    "## The `print` Function in Python"
   ]
  },
  {
   "cell_type": "code",
   "execution_count": 1,
   "metadata": {
    "slideshow": {
     "slide_type": "-"
    }
   },
   "outputs": [
    {
     "name": "stdout",
     "output_type": "stream",
     "text": [
      "The\n",
      "The winning number is 7 .\n",
      "The winning number is 7.\n"
     ]
    }
   ],
   "source": [
    "print('The')\n",
    "print('The', 'winning', 'number', 'is', 7, '.')\n",
    "print('The winning number is '+ str(7) + '.')"
   ]
  },
  {
   "cell_type": "markdown",
   "metadata": {
    "slideshow": {
     "slide_type": "slide"
    }
   },
   "source": [
    "## Using Jupyter for Slides\n",
    "\n",
    "* Install RISE\n",
    "  \n",
    "```\n",
    "> conda install -c damianavila82 rise\n",
    "```    \n",
    "  \n",
    "* Restart Jupyter\n",
    "* View &rarr; Cell Toolbar &rarr; Slideshow to determine slideshow flow\n",
    "* Click on Enter/Exit Live Reveal Slideshow\n",
    "    "
   ]
  },
  {
   "cell_type": "markdown",
   "metadata": {
    "slideshow": {
     "slide_type": "slide"
    }
   },
   "source": [
    "## Shutting Down Jupyter\n",
    "\n",
    "* Do not forget to Command+S / CTRL+S !\n",
    "* Jupyter is a server and closing the browser window will not shut it down\n",
    "* To shut down:\n",
    "    * File &rarr; Close and Halt\n",
    "    * Notebook Dashboard &rarr; Slect notebook &rarr; Shutdown\n",
    "    * Terminal &rarr; CTRL+C &rarr; `y`"
   ]
  },
  {
   "cell_type": "markdown",
   "metadata": {
    "slideshow": {
     "slide_type": "slide"
    }
   },
   "source": [
    "## Alternative Python Workflow\n",
    "\n",
    "* Use another IDE\n",
    "\n",
    "or \n",
    "\n",
    "* Use text editor (e.g. Atom) to create .py files\n",
    "* Run files in Terminal/cmd\n",
    "\n",
    "```\n",
    "> cd Path/to/file\n",
    "> python filename.py\n",
    "```"
   ]
  },
  {
   "cell_type": "markdown",
   "metadata": {
    "slideshow": {
     "slide_type": "slide"
    }
   },
   "source": [
    "## GitHub\n",
    "\n",
    "* Code hosting platform for version control and collaboration\n",
    "* Based on Git\n",
    "  * Version control system for tracking changes in computer files and coordinating work on those files among multiple people\n",
    "  * Created in 2005 by Linus Torvalds\n",
    "* Largest host of source code in the world"
   ]
  },
  {
   "cell_type": "markdown",
   "metadata": {
    "slideshow": {
     "slide_type": "slide"
    }
   },
   "source": [
    "## GitHub Lingo\n",
    "\n",
    "* Repository – a space for a project/assignment\n",
    "* Clone – a copy of the repository that lives on your computer\n",
    "* Branch – a paralel version of the repository\n",
    "* Commit – save changes with a short description\n",
    "* Pull request – ask changes to be merged\n",
    "* Merge – incorporate changes (then delete branch)"
   ]
  },
  {
   "cell_type": "markdown",
   "metadata": {
    "slideshow": {
     "slide_type": "slide"
    }
   },
   "source": [
    "## Getting Started with GitHub\n",
    "\n",
    "* Create personal account on GitHub\n",
    "* Go to https://education.github.com/ and get the Student Developer Pack for some cool freebies"
   ]
  },
  {
   "cell_type": "markdown",
   "metadata": {
    "slideshow": {
     "slide_type": "fragment"
    }
   },
   "source": [
    "* Syllabus and lectures can be found at http://github.com/lse-my470/lectures\n",
    "\n",
    "  * View them online or even better, download/clone them and use Jupyter to annotate them"
   ]
  },
  {
   "cell_type": "markdown",
   "metadata": {
    "slideshow": {
     "slide_type": "fragment"
    }
   },
   "source": [
    "* E-mails with links to assignments will be sent in due course\n",
    "\n",
    "  * Answers to assignments will be available at https://github.com/lse-my470/answers-to-assignments"
   ]
  },
  {
   "cell_type": "markdown",
   "metadata": {
    "slideshow": {
     "slide_type": "slide"
    }
   },
   "source": [
    "## Submitting Assignments on GitHub (Web Version)\n",
    "\n",
    "1. Accept invitation to assignment. This will automatically create a new repository with your username.\n",
    "* **Clone/download** the repository (GitHub web interface)\n",
    "* Make changes in downloaded files and/or create new files (Jupyter)\n",
    "* Upload and **commit** new and/or changed files **directly to the master branch**. Do this before the deadline (GitHub web interface)\n",
    "* We will automatically download all assignment repositories when the deadline has passed. We will then comment and mark your assignment directly in the main file you submitted \n",
    "* Wait for a new commit from us to view our feedback (GitHub web interface) "
   ]
  },
  {
   "cell_type": "markdown",
   "metadata": {
    "slideshow": {
     "slide_type": "slide"
    }
   },
   "source": [
    "## \\*Cloning and Updating Lectures from GitHub (Terminal Version)\n",
    "\n",
    "### Install git\n",
    "\n",
    "  `> conda install -c anaconda git`\n",
    "\n",
    "### Cloning\n",
    "\n",
    "  `> cd Path/to/directory`\n",
    "\n",
    "  `> git clone https://github.com/lse-my470/lectures.git`\n",
    "\n",
    "### Updating\n",
    "\n",
    "  `> cd Path/to/lectures`\n",
    "\n",
    "  `> git pull`\n"
   ]
  },
  {
   "cell_type": "markdown",
   "metadata": {
    "slideshow": {
     "slide_type": "slide"
    }
   },
   "source": [
    "## \\*Submitting Assignments on GitHub (Terminal Version)\n",
    "\n",
    "1. Accept invitation to assignment. This will automatically create a new repository with your username.\n",
    "* **Clone** the repository (Terminal)\n",
    "\n",
    "  `> cd Path/to/directory`\n",
    "\n",
    "  `> git clone link.git`\n",
    "  \n",
    "  (You can obtain the link when you click the \"Clone or download\" button on the GitHub page for the repository.)\n",
    "\n",
    "* Make changes in downloaded files and/or create new files (Jupyter)\n",
    "\n",
    "* **Commit** new and/or changed files and **push to the master branch**. Do this before the deadline (Terminal)\n",
    "\n",
    "  `> cd Path/to/directory`\n",
    "  \n",
    "  `> git add *` \n",
    "  \n",
    "  `> git commit -m 'Submitting assignment'`\n",
    "  \n",
    "  `> git push`\n",
    "  \n",
    "* We will automatically download all assignment repositories when the deadline has passed. We will then comment and mark your assignment directly in the main file you submitted\n",
    "\n",
    "* **Pull** the new version we commit to view our feedback (Terminal)\n",
    "\n",
    "  `> cd Path/to/directory`\n",
    "  \n",
    "  `> git pull`\n"
   ]
  },
  {
   "cell_type": "markdown",
   "metadata": {
    "slideshow": {
     "slide_type": "slide"
    }
   },
   "source": [
    "## Resources\n",
    "\n",
    "* [Python documentation](http://docs.python.org/3/)\n",
    "* [Python Wikibook](https://en.wikibooks.org/wiki/Python_Programming)\n",
    "* Google\n",
    "* [Stack Overflow](https://stackoverflow.com/)\n",
    "\n",
    "** \\*\\*\\*Give credit when copying code or solutions!\\*\\*\\* **"
   ]
  },
  {
   "cell_type": "markdown",
   "metadata": {
    "slideshow": {
     "slide_type": "slide"
    }
   },
   "source": [
    "## Week 1 Assignment\n",
    "\n",
    "* Write a simple program in a Jupyter notebook and submit it on GitHub\n",
    "* E-mail with link to assignment will be sent by end of today"
   ]
  }
 ],
 "metadata": {
  "celltoolbar": "Slideshow",
  "kernelspec": {
   "display_name": "Python 3",
   "language": "python",
   "name": "python3"
  },
  "language_info": {
   "codemirror_mode": {
    "name": "ipython",
    "version": 3
   },
   "file_extension": ".py",
   "mimetype": "text/x-python",
   "name": "python",
   "nbconvert_exporter": "python",
   "pygments_lexer": "ipython3",
   "version": "3.6.0"
  }
 },
 "nbformat": 4,
 "nbformat_minor": 2
}
