{
 "cells": [
  {
   "cell_type": "markdown",
   "metadata": {
    "slideshow": {
     "slide_type": "slide"
    }
   },
   "source": [
    "### MY470 Computer Programming\n",
    "# Welcome to Computer Programming\n",
    "### Week 1 Admin, MT 2017"
   ]
  },
  {
   "cell_type": "markdown",
   "metadata": {
    "slideshow": {
     "slide_type": "slide"
    }
   },
   "source": [
    "## Overview\n",
    "\n",
    "* Course content\n",
    "* Prerequisites and materials\n",
    "* Course meetings\n",
    "* Assesment and collaboration\n",
    "* Weekly schedule"
   ]
  },
  {
   "cell_type": "markdown",
   "metadata": {
    "slideshow": {
     "slide_type": "slide"
    }
   },
   "source": [
    "## Instructors\n",
    "\n",
    "* Dr. Milena Tsvetkova, `m.tsvetkova@lse.ac.uk`\n",
    "* Prof. Kenneth Benoit, `k.r.benoit@lse.ac.uk`\n",
    "* Dr. Kohei Watanabe (TA), `k.watanabe1@lse.ac.uk`"
   ]
  },
  {
   "cell_type": "markdown",
   "metadata": {
    "slideshow": {
     "slide_type": "slide"
    }
   },
   "source": [
    "## Course Content\n",
    "\n",
    "* Introduction to the fundamentals of computer programming\n",
    "* We will cover the foundations of computer languages, object-oriented programming, and algorithms\n",
    "* You will learn how to design, write, and debug computer programs and how to evaluate algorithms"
   ]
  },
  {
   "cell_type": "markdown",
   "metadata": {
    "slideshow": {
     "slide_type": "slide"
    }
   },
   "source": [
    "## Prerequisites and Software\n",
    "\n",
    "* Introductory course — no prerequisites"
   ]
  },
  {
   "cell_type": "markdown",
   "metadata": {
    "slideshow": {
     "slide_type": "-"
    }
   },
   "source": [
    "* Software\n",
    "  * **Python** and **R** (Anaconda distributions) to learn basic concepts in computer science\n",
    "  * **Jupyter** notebooks web app to write code\n",
    "  * **GitHub** to share course documents and assignments"
   ]
  },
  {
   "cell_type": "markdown",
   "metadata": {
    "slideshow": {
     "slide_type": "slide"
    }
   },
   "source": [
    "## Books\n",
    "\n",
    "* Guttag, John V. *Introduction to Computation and Programming Using Python: With Application to Understanding Data.* Mit Press, 2016.\n",
    "* Grolemund, Garrett and Hadley Wickham. *R for Data Science*. O'Reilly, 2016. http://r4ds.had.co.nz\n",
    "* Grolemund, Garrett. *Hands-On Programming with R*. O’Reilly, 2014."
   ]
  },
  {
   "cell_type": "markdown",
   "metadata": {
    "slideshow": {
     "slide_type": "-"
    }
   },
   "source": [
    "* Matthes, Eric. *Python Crash Course, Cheet Sheet* at https://ehmatthes.github.io/pcc/cheatsheets/README.html.\n",
    "* Python Intermediate and Advanced Documentation at http://docs.python.org/3/."
   ]
  },
  {
   "cell_type": "markdown",
   "metadata": {
    "slideshow": {
     "slide_type": "slide"
    }
   },
   "source": [
    "## Course Meetings\n",
    "\n",
    "* Ten two-hour lectures: Mondays 13:00–15:00 in KSW.G.01\n",
    "* Ten 1.5-hour computer classes\n",
    "  * Tuesdays 15:00–16:30 in TW2 4.03\n",
    "  * Thursdays 14:30–16:00 in STC S018\n",
    "* No lecture/class in Week 6!\n",
    "* Office hours\n",
    "  * Milena: Mondays 15:00–17:00, COL 8.03\n",
    "  * Ken: By appointment, COL 8.11"
   ]
  },
  {
   "cell_type": "markdown",
   "metadata": {
    "slideshow": {
     "slide_type": "slide"
    }
   },
   "source": [
    "## Assessment\n",
    "\n",
    "* In-class assessment (50%)\n",
    "  * 10 problem sets (due on Mondays of weeks 2-6 and 8-12)\n",
    "  * Grades available by Friday"
   ]
  },
  {
   "cell_type": "markdown",
   "metadata": {
    "slideshow": {
     "slide_type": "-"
    }
   },
   "source": [
    "* Take-home exam (50%) \n",
    "  * Substantive project requiring you to demonstrate concepts and skills learned from the course\n",
    "  * Can choose either Python or R"
   ]
  },
  {
   "cell_type": "markdown",
   "metadata": {
    "slideshow": {
     "slide_type": "fragment"
    }
   },
   "source": [
    "* Criteria\n",
    "  * The code runs and does what it is expected to\n",
    "  * The code is written using the concepts, paradigms, and best practices covered in the course"
   ]
  },
  {
   "cell_type": "markdown",
   "metadata": {
    "slideshow": {
     "slide_type": "slide"
    }
   },
   "source": [
    "## Collaboration\n",
    "\n",
    "* Assignments are individual unless we instruct you otherwise\n",
    "* For individual assignments:\n",
    "  * You can discuss solutions with peers\n",
    "  * However, you are not allowed to copy-paste code – you need to write the code yourself\n",
    "* You can use online resources but always give credit in comments if you borrow code/solutions"
   ]
  },
  {
   "cell_type": "markdown",
   "metadata": {
    "slideshow": {
     "slide_type": "slide"
    }
   },
   "source": [
    "## Course Outline\n",
    "\n",
    "| Week   | Language  | Topic   \n",
    "| :----: |:---------:| :----------------------\n",
    "| 1      | –         | What is Computation?             \n",
    "| 2      | Python    | Data Types \n",
    "| 3      | Python    | Control Flow\n",
    "| 4      | Python    | Functions\n",
    "| 5      | Python    | Classes\n",
    "| 6      | –         | –\n",
    "| 7      | Python    | Testing and Debugging\n",
    "| 8      | R         | Data Types and Control Flow\n",
    "| 9      | R         | Functions and Debugging\n",
    "| 10     | Python, R | Algorithms and Order of Growth\n",
    "| 11     | Python, R | Searching and Sorting Algorithms"
   ]
  }
 ],
 "metadata": {
  "celltoolbar": "Slideshow",
  "kernelspec": {
   "display_name": "Python 3",
   "language": "python",
   "name": "python3"
  },
  "language_info": {
   "codemirror_mode": {
    "name": "ipython",
    "version": 3
   },
   "file_extension": ".py",
   "mimetype": "text/x-python",
   "name": "python",
   "nbconvert_exporter": "python",
   "pygments_lexer": "ipython3",
   "version": "3.6.0"
  }
 },
 "nbformat": 4,
 "nbformat_minor": 2
}
